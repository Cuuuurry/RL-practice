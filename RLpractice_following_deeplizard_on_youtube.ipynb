{
  "nbformat": 4,
  "nbformat_minor": 0,
  "metadata": {
    "colab": {
      "name": "RLpractice---following deeplizard on youtube.ipynb",
      "provenance": [],
      "collapsed_sections": []
    },
    "kernelspec": {
      "name": "python3",
      "display_name": "Python 3"
    },
    "language_info": {
      "name": "python"
    }
  },
  "cells": [
    {
      "cell_type": "code",
      "metadata": {
        "id": "snmDF9L3KmqL"
      },
      "source": [
        "import gym\n",
        "import numpy as np\n",
        "import random\n",
        "import time\n",
        "from IPython.display import clear_output"
      ],
      "execution_count": 5,
      "outputs": []
    },
    {
      "cell_type": "code",
      "metadata": {
        "id": "8bofM9BimWND"
      },
      "source": [
        "env = gym.make('FrozenLake-v0')"
      ],
      "execution_count": 6,
      "outputs": []
    },
    {
      "cell_type": "code",
      "metadata": {
        "id": "dsyCZlZvmbOp"
      },
      "source": [
        "action_space_size = env.action_space.n\n",
        "state_space_size = env.observation_space.n"
      ],
      "execution_count": 11,
      "outputs": []
    },
    {
      "cell_type": "code",
      "metadata": {
        "id": "Aui893xOmr13"
      },
      "source": [
        "q_table = np.zeros((state_space_size, action_space_size))"
      ],
      "execution_count": 12,
      "outputs": []
    },
    {
      "cell_type": "code",
      "metadata": {
        "id": "APKSm0yGKzVV"
      },
      "source": [
        "num_episodes = 10000\n",
        "max_steps_per_episode = 100\n",
        "\n",
        "learning_rate = 0.1\n",
        "discount_rate = 0.99\n",
        "\n",
        "exploration_rate = 1\n",
        "max_exploration_rate = 1\n",
        "min_exploration_rate = 0.001\n",
        "exploration_decay_rate = 0.001"
      ],
      "execution_count": 21,
      "outputs": []
    },
    {
      "cell_type": "code",
      "metadata": {
        "id": "BnXTPrJ5mrU2"
      },
      "source": [
        "rewards_all_episodes = []\n",
        "\n",
        "#Q-learning\n",
        "for episode in range(num_episodes):\n",
        "  state = env.reset()\n",
        "  done = False\n",
        "  rewards_current_episode = 0\n",
        "\n",
        "  for step in range(max_steps_per_episode):\n",
        "\n",
        "    #exploration-exploitation trade-off:\n",
        "    exploration_rate_threshold = random.uniform(0,1)\n",
        "    if exploration_rate_threshold > exploration_rate:\n",
        "      action = np.argmax(q_table[state,:])\n",
        "    else:\n",
        "      action = env.action_space.sample()\n",
        "    new_state, reward, done, info = env.step(action)\n",
        "\n",
        "    #update Q-table for Q(s,a)\n",
        "    q_table[state, action] = q_table[state,action]*(1-learning_rate) + learning_rate *(reward + discount_rate* np.max(q_table[new_state,:]))\n",
        "\n",
        "    state = new_state\n",
        "    rewards_current_episode += reward\n",
        "    if done == True:\n",
        "      break\n",
        "    #exploration rate decay\n",
        "  exploration_rate = min_exploration_rate + (max_exploration_rate - min_exploration_rate) * np.exp(-exploration_decay_rate*episode)\n",
        "  rewards_all_episodes.append(rewards_current_episode)\n",
        "\n",
        "    "
      ],
      "execution_count": 22,
      "outputs": []
    },
    {
      "cell_type": "code",
      "metadata": {
        "colab": {
          "base_uri": "https://localhost:8080/"
        },
        "id": "3qJWPBtydvx1",
        "outputId": "af65d6a3-8858-4fae-8369-0666d1e931cb"
      },
      "source": [
        "#calculate and print the average reward per thousand episodes\n",
        "rewards_per_thousand_episodes = np.split(np.array(rewards_all_episodes), num_episodes/1000)\n",
        "count = 1000\n",
        "print('average reward per thousand episodes')\n",
        "for r in rewards_per_thousand_episodes:\n",
        "  print(count, ':', str(sum(r/1000)))\n",
        "  count += 1000\n",
        "\n",
        "\n",
        "#Print updated Q-table\n",
        "print('Q-table')\n",
        "print(q_table)\n"
      ],
      "execution_count": 23,
      "outputs": [
        {
          "output_type": "stream",
          "name": "stdout",
          "text": [
            "average reward per thousand episodes\n",
            "1000 : 0.04500000000000003\n",
            "2000 : 0.21100000000000016\n",
            "3000 : 0.4020000000000003\n",
            "4000 : 0.5900000000000004\n",
            "5000 : 0.6890000000000005\n",
            "6000 : 0.6710000000000005\n",
            "7000 : 0.7080000000000005\n",
            "8000 : 0.7290000000000005\n",
            "9000 : 0.7260000000000005\n",
            "10000 : 0.7450000000000006\n",
            "Q-table\n",
            "[[0.56506556 0.48012166 0.48104739 0.48680785]\n",
            " [0.41199821 0.35048139 0.28740836 0.5210417 ]\n",
            " [0.41082484 0.40819537 0.40962314 0.49702218]\n",
            " [0.32773965 0.33348709 0.2542463  0.47702364]\n",
            " [0.58417088 0.28823446 0.4044961  0.40863996]\n",
            " [0.         0.         0.         0.        ]\n",
            " [0.16716443 0.15085248 0.33267606 0.10216576]\n",
            " [0.         0.         0.         0.        ]\n",
            " [0.44701534 0.46475379 0.40021172 0.64821434]\n",
            " [0.31977207 0.71162708 0.43565127 0.29513377]\n",
            " [0.68099165 0.39100202 0.33551247 0.29803679]\n",
            " [0.         0.         0.         0.        ]\n",
            " [0.         0.         0.         0.        ]\n",
            " [0.44353644 0.55508376 0.78549535 0.47330635]\n",
            " [0.72733433 0.8774639  0.69869269 0.77608202]\n",
            " [0.         0.         0.         0.        ]]\n"
          ]
        }
      ]
    },
    {
      "cell_type": "code",
      "metadata": {
        "colab": {
          "base_uri": "https://localhost:8080/"
        },
        "id": "dzewCNqFK9OW",
        "outputId": "d6a9a385-8c77-4e57-ffcf-a5f4d5fa8f43"
      },
      "source": [
        "#visualize the process\n",
        "for episode in range(3):\n",
        "  state = env.reset()\n",
        "  done = False\n",
        "  print(f\"episode{episode+1}\")\n",
        "  time.sleep(1)\n",
        "\n",
        "  for step in range(max_steps_per_episode):\n",
        "    clear_output(wait = True)\n",
        "    env.render() # visually see the agent\n",
        "    time.sleep(0.3)\n",
        "\n",
        "    action = np.argmax(q_table[state,:])\n",
        "    new_state, reward, done, info = env.step(action)\n",
        "\n",
        "    if done:\n",
        "      clear_output(wait = True)\n",
        "      env.render()\n",
        "      if reward == 1:\n",
        "        print('the end')\n",
        "        time.sleep(0.3)\n",
        "      else:\n",
        "        print('fall into a hole')\n",
        "        time.sleep(0.3)\n",
        "      clear_output(wait = True)\n",
        "      break\n",
        "    state = new_state\n",
        "\n",
        "env.close()\n"
      ],
      "execution_count": 26,
      "outputs": [
        {
          "output_type": "stream",
          "name": "stdout",
          "text": [
            "  (Down)\n",
            "SFFF\n",
            "FHFH\n",
            "FFFH\n",
            "HFF\u001b[41mG\u001b[0m\n",
            "the end\n"
          ]
        }
      ]
    },
    {
      "cell_type": "code",
      "metadata": {
        "colab": {
          "base_uri": "https://localhost:8080/"
        },
        "id": "UGaz2nwxdP6K",
        "outputId": "15828db7-e3ff-46b3-e2fa-94fce54590e2"
      },
      "source": [
        ""
      ],
      "execution_count": null,
      "outputs": [
        {
          "output_type": "execute_result",
          "data": {
            "text/plain": [
              "array([0, 1, 1, ..., 0, 0, 0])"
            ]
          },
          "metadata": {},
          "execution_count": 19
        }
      ]
    },
    {
      "cell_type": "code",
      "metadata": {
        "id": "NBDMgLYwgeNe",
        "colab": {
          "base_uri": "https://localhost:8080/"
        },
        "outputId": "03df4a7e-c42a-465b-da1b-f20f232dc300"
      },
      "source": [
        "q_table"
      ],
      "execution_count": 25,
      "outputs": [
        {
          "output_type": "execute_result",
          "data": {
            "text/plain": [
              "array([[0.56506556, 0.48012166, 0.48104739, 0.48680785],\n",
              "       [0.41199821, 0.35048139, 0.28740836, 0.5210417 ],\n",
              "       [0.41082484, 0.40819537, 0.40962314, 0.49702218],\n",
              "       [0.32773965, 0.33348709, 0.2542463 , 0.47702364],\n",
              "       [0.58417088, 0.28823446, 0.4044961 , 0.40863996],\n",
              "       [0.        , 0.        , 0.        , 0.        ],\n",
              "       [0.16716443, 0.15085248, 0.33267606, 0.10216576],\n",
              "       [0.        , 0.        , 0.        , 0.        ],\n",
              "       [0.44701534, 0.46475379, 0.40021172, 0.64821434],\n",
              "       [0.31977207, 0.71162708, 0.43565127, 0.29513377],\n",
              "       [0.68099165, 0.39100202, 0.33551247, 0.29803679],\n",
              "       [0.        , 0.        , 0.        , 0.        ],\n",
              "       [0.        , 0.        , 0.        , 0.        ],\n",
              "       [0.44353644, 0.55508376, 0.78549535, 0.47330635],\n",
              "       [0.72733433, 0.8774639 , 0.69869269, 0.77608202],\n",
              "       [0.        , 0.        , 0.        , 0.        ]])"
            ]
          },
          "metadata": {},
          "execution_count": 25
        }
      ]
    },
    {
      "cell_type": "code",
      "metadata": {
        "id": "F9uoUejyyhAr"
      },
      "source": [
        ""
      ],
      "execution_count": null,
      "outputs": []
    }
  ]
}